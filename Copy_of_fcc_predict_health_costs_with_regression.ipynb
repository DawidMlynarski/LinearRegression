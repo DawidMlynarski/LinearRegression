{
  "cells": [
    {
      "cell_type": "markdown",
      "metadata": {
        "id": "view-in-github",
        "colab_type": "text"
      },
      "source": [
        "<a href=\"https://colab.research.google.com/github/DawidMlynarski/LinearRegression/blob/main/Copy_of_fcc_predict_health_costs_with_regression.ipynb\" target=\"_parent\"><img src=\"https://colab.research.google.com/assets/colab-badge.svg\" alt=\"Open In Colab\"/></a>"
      ]
    },
    {
      "cell_type": "code",
      "execution_count": null,
      "metadata": {
        "id": "1rRo8oNqZ-Rj"
      },
      "outputs": [],
      "source": [
        "# Import libraries. You may or may not use all of these.\n",
        "!pip install -q git+https://github.com/tensorflow/docs\n",
        "import matplotlib.pyplot as plt\n",
        "import numpy as np\n",
        "import pandas as pd\n",
        "from sklearn import preprocessing\n",
        "\n",
        "try:\n",
        "  # %tensorflow_version only exists in Colab.\n",
        "  %tensorflow_version 2.x\n",
        "except Exception:\n",
        "  pass\n",
        "import tensorflow as tf\n",
        "\n",
        "from tensorflow import keras\n",
        "from tensorflow.keras import layers\n",
        "import seaborn as sns\n",
        "from sklearn.model_selection import train_test_split\n",
        "from sklearn.metrics import r2_score\n",
        "from sklearn.cluster import KMeans\n",
        "from sklearn.compose import TransformedTargetRegressor\n",
        "from sklearn.preprocessing import QuantileTransformer\n",
        "from sklearn.metrics import r2_score, mean_absolute_error, mean_squared_error\n",
        "\n",
        "from sklearn.linear_model import LinearRegression\n",
        "from sklearn.tree import DecisionTreeRegressor\n",
        "\n",
        "import tensorflow_docs as tfdocs\n",
        "import tensorflow_docs.plots\n",
        "import tensorflow_docs.modeling"
      ]
    },
    {
      "cell_type": "code",
      "execution_count": null,
      "metadata": {
        "id": "CiX2FI4gZtTt"
      },
      "outputs": [],
      "source": [
        "# Import data\n",
        "!wget https://cdn.freecodecamp.org/project-data/health-costs/insurance.csv\n",
        "dataset = pd.read_csv('insurance.csv')\n",
        "dataset.tail()\n",
        "\n"
      ]
    },
    {
      "cell_type": "code",
      "execution_count": null,
      "metadata": {
        "id": "LcopvQh3X-kX"
      },
      "outputs": [],
      "source": [
        "X = pd.DataFrame()\n",
        "dataset.sex = pd.Categorical(dataset.sex)\n",
        "dataset.smoker = pd.Categorical(dataset.smoker)\n",
        "dataset.region = pd.Categorical(dataset.region)\n",
        "region=pd.get_dummies(dataset.region, prefix='location')\n",
        "dataset = pd.concat([dataset,region],axis=1)\n",
        "dataset.drop(columns='region', inplace=True)\n",
        "\n",
        "X['sex'] = dataset.sex.cat.codes\n",
        "X['smoker'] = dataset.smoker.cat.codes\n",
        "X['age'] = dataset['age']\n",
        "X['bmi'] = dataset['bmi']\n",
        "X['children'] = dataset['children']\n",
        "X['location_southwest'] = dataset['location_southwest'].astype(int)\n",
        "X['location_southeast'] = dataset['location_southeast'].astype(int)\n",
        "X['location_northeast'] = dataset['location_northeast'].astype(int)\n",
        "X['location_northwest'] = dataset['location_northwest'].astype(int)\n",
        "\n",
        "features=['age', 'bmi', 'smoker', 'children', 'location_northeast', 'location_northwest', 'location_southeast', 'location_southwest']\n",
        "kmeans = KMeans(n_clusters=2)\n",
        "kmeans.fit(X[features])\n",
        "X['cust_type'] = kmeans.predict(X[features])\n",
        "X['location_north'] = X.apply(lambda x: 1 if x['location_northeast'] == 1 or x['location_northwest'] == 1 else 0, axis=1)\n",
        "X['location_south'] = X.apply(lambda x: 1 if x['location_southeast'] == 1 or x['location_southwest'] == 1 else 0, axis=1)\n",
        "X['more_than_1_child']=X.children.apply(lambda x:1 if x>1 else 0)\n",
        "\n",
        "X.drop(columns=['location_southeast', 'location_southwest', 'location_northwest', 'location_northeast'], inplace=True)\n",
        "\n",
        "\n",
        "\n",
        "Y = dataset['expenses']\n",
        "\n",
        "transformer = preprocessing.StandardScaler().fit(X[['age']])\n",
        "X['age'] = transformer.transform(X[['age']])\n",
        "transformer = preprocessing.StandardScaler().fit(X[['bmi']])\n",
        "X['bmi'] = transformer.transform(X[['bmi']])\n",
        "transformer = preprocessing.StandardScaler().fit(X[['children']])\n",
        "X['children'] = transformer.transform(X[['children']])\n",
        "\n",
        "\n",
        "\n",
        "X_train, X_test, Y_train, Y_test = train_test_split(X, Y, test_size=0.20,random_state=42)\n",
        "\n",
        "\n",
        "model = DecisionTreeRegressor()\n",
        "regr_trans = TransformedTargetRegressor(regressor=model, transformer=QuantileTransformer(output_distribution='normal'))\n",
        "regr_trans.fit(X_train, Y_train)\n",
        "yhat = regr_trans.predict(X_test)\n",
        "\n",
        "print('r2 score: ', r2_score(Y_test, yhat))\n",
        "print(mean_absolute_error(Y_test, yhat))\n"
      ]
    },
    {
      "cell_type": "code",
      "execution_count": null,
      "metadata": {
        "id": "Xe7RXH3N3CWU"
      },
      "outputs": [],
      "source": [
        "# RUN THIS CELL TO TEST YOUR MODEL. DO NOT MODIFY CONTENTS.\n",
        "# Test model by checking how well the model generalizes using the test set.\n",
        "mae = mean_absolute_error(Y_test,yhat)\n",
        "\n",
        "print(\"Testing set Mean Abs Error: {:5.2f} expenses\".format(mae))\n",
        "\n",
        "if mae < 3500:\n",
        "  print(\"You passed the challenge. Great job!\")\n",
        "else:\n",
        "  print(\"The Mean Abs Error must be less than 3500. Keep trying.\")\n",
        "\n",
        "\n"
      ]
    }
  ],
  "metadata": {
    "colab": {
      "private_outputs": true,
      "provenance": [],
      "include_colab_link": true
    },
    "kernelspec": {
      "display_name": "Python 3",
      "name": "python3"
    }
  },
  "nbformat": 4,
  "nbformat_minor": 0
}